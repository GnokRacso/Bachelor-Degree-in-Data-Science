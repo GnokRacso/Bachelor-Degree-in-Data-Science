{
  "nbformat": 4,
  "nbformat_minor": 0,
  "metadata": {
    "colab": {
      "name": "Untitled1.ipynb",
      "provenance": [],
      "authorship_tag": "ABX9TyNyzHuLqS9XK4drkF2rE5P4",
      "include_colab_link": true
    },
    "kernelspec": {
      "name": "python3",
      "display_name": "Python 3"
    }
  },
  "cells": [
    {
      "cell_type": "markdown",
      "metadata": {
        "id": "view-in-github",
        "colab_type": "text"
      },
      "source": [
        "<a href=\"https://colab.research.google.com/github/GnokRacso/Degree-Year-2-Data-Science-/blob/master/Data%20Science/Practical/Practical3.ipynb\" target=\"_parent\"><img src=\"https://colab.research.google.com/assets/colab-badge.svg\" alt=\"Open In Colab\"/></a>"
      ]
    },
    {
      "cell_type": "code",
      "metadata": {
        "id": "_8tx2x-7Ur7p",
        "colab_type": "code",
        "colab": {
          "base_uri": "https://localhost:8080/",
          "height": 67
        },
        "outputId": "44b2881b-94de-4e41-a890-13a42f08ffb3"
      },
      "source": [
        "import numpy as np\n",
        "\n",
        "np.arange((9)).reshape(3,3)"
      ],
      "execution_count": 9,
      "outputs": [
        {
          "output_type": "execute_result",
          "data": {
            "text/plain": [
              "array([[0, 1, 2],\n",
              "       [3, 4, 5],\n",
              "       [6, 7, 8]])"
            ]
          },
          "metadata": {
            "tags": []
          },
          "execution_count": 9
        }
      ]
    },
    {
      "cell_type": "code",
      "metadata": {
        "id": "9DJFRItUXRiB",
        "colab_type": "code",
        "colab": {
          "base_uri": "https://localhost:8080/",
          "height": 420
        },
        "outputId": "ff0bcf90-aee4-4695-ea85-bc9ad1ed1847"
      },
      "source": [
        "x = np.random.random((10,10))\n",
        "print(x)\n",
        "print(\"Minimum Value:\")\n",
        "print(x.min())\n",
        "print(\"Maximum Value:\")\n",
        "print(x.max())\n"
      ],
      "execution_count": 14,
      "outputs": [
        {
          "output_type": "stream",
          "text": [
            "[[0.04081794 0.39877921 0.24882425 0.33272247 0.71333943 0.68195313\n",
            "  0.44737424 0.58112602 0.91817843 0.72503805]\n",
            " [0.52450102 0.03940846 0.10982878 0.52503629 0.54645116 0.98432679\n",
            "  0.70059954 0.84356272 0.25520347 0.33442406]\n",
            " [0.24413379 0.89559867 0.13857121 0.65980265 0.01159158 0.5092085\n",
            "  0.24494369 0.45942364 0.15088005 0.80795618]\n",
            " [0.03415192 0.53868222 0.51260069 0.70368735 0.73833911 0.52284792\n",
            "  0.25577794 0.49493683 0.52309889 0.01537651]\n",
            " [0.12336212 0.09746387 0.5069229  0.34579407 0.24666854 0.99190257\n",
            "  0.15986116 0.28765616 0.57533701 0.44295878]\n",
            " [0.86085144 0.43058552 0.13722677 0.30447796 0.96458755 0.74525046\n",
            "  0.81036044 0.77608088 0.23451551 0.13487108]\n",
            " [0.40553124 0.61832464 0.53575132 0.39780874 0.73040362 0.61032522\n",
            "  0.55958357 0.67529001 0.72033011 0.5232897 ]\n",
            " [0.89975934 0.33135748 0.18978832 0.69146057 0.81908019 0.85285393\n",
            "  0.98755941 0.46169737 0.95992076 0.57053   ]\n",
            " [0.90873987 0.4909412  0.39939357 0.30079022 0.75703446 0.70000169\n",
            "  0.01606572 0.12430637 0.91182302 0.31886204]\n",
            " [0.26460661 0.46207976 0.1375956  0.47427015 0.2023902  0.3803755\n",
            "  0.95814682 0.16165128 0.96855662 0.66855836]]\n",
            "Minimum Value:\n",
            "0.011591577676350773\n",
            "Maximum Value:\n",
            "0.9919025703459659\n"
          ],
          "name": "stdout"
        }
      ]
    },
    {
      "cell_type": "code",
      "metadata": {
        "id": "2mfkdjLmZ3SQ",
        "colab_type": "code",
        "colab": {
          "base_uri": "https://localhost:8080/",
          "height": 168
        },
        "outputId": "c53285e3-3503-4f2b-b76a-3b1b30688b68"
      },
      "source": [
        "x = np.ones((3,3))\n",
        "print(\"Checkerboard pattern:\")\n",
        "x = np.zeros((8,8),dtype=int)\n",
        "x[1::2,::2] = 1\n",
        "x[::2,1::2] = 1\n",
        "print(x)"
      ],
      "execution_count": 23,
      "outputs": [
        {
          "output_type": "stream",
          "text": [
            "Checkerboard pattern:\n",
            "[[0 1 0 1 0 1 0 1]\n",
            " [1 0 1 0 1 0 1 0]\n",
            " [0 1 0 1 0 1 0 1]\n",
            " [1 0 1 0 1 0 1 0]\n",
            " [0 1 0 1 0 1 0 1]\n",
            " [1 0 1 0 1 0 1 0]\n",
            " [0 1 0 1 0 1 0 1]\n",
            " [1 0 1 0 1 0 1 0]]\n"
          ],
          "name": "stdout"
        }
      ]
    }
  ]
}