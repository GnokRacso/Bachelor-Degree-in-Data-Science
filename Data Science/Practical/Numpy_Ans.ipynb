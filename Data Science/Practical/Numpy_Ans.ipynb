{
  "nbformat": 4,
  "nbformat_minor": 0,
  "metadata": {
    "colab": {
      "name": "Numpy_Ans.ipynb",
      "provenance": [],
      "authorship_tag": "ABX9TyME1Yg4O0UZ1xWNHjZ+/54A",
      "include_colab_link": true
    },
    "kernelspec": {
      "name": "python3",
      "display_name": "Python 3"
    }
  },
  "cells": [
    {
      "cell_type": "markdown",
      "metadata": {
        "id": "view-in-github",
        "colab_type": "text"
      },
      "source": [
        "<a href=\"https://colab.research.google.com/github/GnokRacso/Degree-Year-2-Data-Science-/blob/master/Data%20Science/Practical/Numpy_Ans.ipynb\" target=\"_parent\"><img src=\"https://colab.research.google.com/assets/colab-badge.svg\" alt=\"Open In Colab\"/></a>"
      ]
    },
    {
      "cell_type": "code",
      "metadata": {
        "id": "JXCUsZjy0O_J",
        "colab_type": "code",
        "colab": {}
      },
      "source": [
        "#[Numpy_Basic](https://jakevdp.github.io/PythonDataScienceHandbook/02.02-the-basics-of-numpy-arrays.html)"
      ],
      "execution_count": 28,
      "outputs": []
    },
    {
      "cell_type": "code",
      "metadata": {
        "id": "_8tx2x-7Ur7p",
        "colab_type": "code",
        "colab": {
          "base_uri": "https://localhost:8080/",
          "height": 67
        },
        "outputId": "659054f9-87df-4446-d99d-3a71966f4f64"
      },
      "source": [
        "import numpy as np\n",
        "\n",
        "np.arange((9)).reshape(3,3)"
      ],
      "execution_count": 2,
      "outputs": [
        {
          "output_type": "execute_result",
          "data": {
            "text/plain": [
              "array([[0, 1, 2],\n",
              "       [3, 4, 5],\n",
              "       [6, 7, 8]])"
            ]
          },
          "metadata": {
            "tags": []
          },
          "execution_count": 2
        }
      ]
    },
    {
      "cell_type": "code",
      "metadata": {
        "id": "9DJFRItUXRiB",
        "colab_type": "code",
        "colab": {
          "base_uri": "https://localhost:8080/",
          "height": 588
        },
        "outputId": "609beca4-c706-417f-f63a-84dd438a3253"
      },
      "source": [
        "x = np.random.random((10,10))\n",
        "print(x)\n",
        "print(\"Minimum Value:\")\n",
        "print(x.min())\n",
        "print(\"Maximum Value:\")\n",
        "print(x.max())\n"
      ],
      "execution_count": null,
      "outputs": [
        {
          "output_type": "stream",
          "text": [
            "[[5.28479070e-01 2.90750644e-01 6.49268765e-01 9.74550288e-01\n",
            "  1.88412679e-01 6.34803774e-01 6.60972586e-01 5.11325979e-01\n",
            "  5.65437013e-01 2.37864874e-02]\n",
            " [7.57182511e-01 9.71743146e-01 5.46127349e-01 5.11614356e-01\n",
            "  9.12943750e-01 2.16319245e-01 6.43340585e-02 9.10422188e-01\n",
            "  9.62687922e-01 1.68620753e-01]\n",
            " [3.82565002e-01 7.65057062e-01 3.11713030e-01 5.97165431e-01\n",
            "  6.89031409e-01 1.05514540e-01 1.87553689e-01 6.88351382e-01\n",
            "  1.94876711e-02 3.85795099e-01]\n",
            " [8.64130298e-01 8.71250991e-01 1.52821179e-01 8.21887940e-01\n",
            "  7.81878665e-02 1.40309291e-01 2.96486805e-01 2.06128008e-01\n",
            "  1.30902646e-01 3.15073423e-01]\n",
            " [3.71101678e-01 6.71038423e-01 6.29435152e-01 3.45110102e-01\n",
            "  5.92745189e-01 2.51881031e-01 3.96943888e-02 7.14248099e-01\n",
            "  5.01175129e-01 9.43476277e-01]\n",
            " [2.15245339e-01 4.89785377e-01 9.19557081e-01 3.43187718e-01\n",
            "  8.05014030e-01 1.13426931e-01 9.39145649e-01 2.90045804e-01\n",
            "  8.60999610e-01 1.20620292e-01]\n",
            " [5.74754589e-01 1.54241775e-01 9.75421160e-01 8.78673144e-01\n",
            "  5.13630926e-01 9.03568427e-01 4.48292973e-01 5.65035887e-01\n",
            "  9.31314074e-01 1.27334852e-01]\n",
            " [2.23954975e-01 2.91565250e-01 1.92756184e-01 9.72754000e-01\n",
            "  2.09434046e-01 9.62163221e-01 9.65710538e-01 6.38553873e-01\n",
            "  2.92483416e-01 4.16313504e-01]\n",
            " [8.43575842e-01 2.64294035e-01 4.61561568e-01 9.19354243e-01\n",
            "  9.48957801e-01 6.45404387e-01 3.41485362e-01 8.68072033e-01\n",
            "  7.13703951e-01 6.10645506e-01]\n",
            " [1.70492850e-01 2.06753369e-01 5.60214381e-01 8.73960156e-01\n",
            "  4.41327847e-01 9.30055792e-01 1.64304067e-01 9.27053937e-01\n",
            "  2.55390037e-04 6.30374903e-01]]\n",
            "Minimum Value:\n",
            "0.0002553900367487927\n",
            "Maximum Value:\n",
            "0.9754211604553819\n"
          ],
          "name": "stdout"
        }
      ]
    },
    {
      "cell_type": "code",
      "metadata": {
        "id": "2mfkdjLmZ3SQ",
        "colab_type": "code",
        "colab": {
          "base_uri": "https://localhost:8080/",
          "height": 168
        },
        "outputId": "a7e37fb4-35a2-4e36-f5a8-0349a81f87f4"
      },
      "source": [
        "x = np.ones((3,3))\n",
        "print(\"Checkerboard pattern:\")\n",
        "x = np.zeros((8,8),dtype=int)\n",
        "x[1::2,::2] = 1 #x[start:final:step]=[1:0:0]\n",
        "x[::2,1::2] = 1\n",
        "print(x)"
      ],
      "execution_count": 5,
      "outputs": [
        {
          "output_type": "stream",
          "text": [
            "Checkerboard pattern:\n",
            "[[0 1 0 1 0 1 0 1]\n",
            " [1 0 1 0 1 0 1 0]\n",
            " [0 1 0 1 0 1 0 1]\n",
            " [1 0 1 0 1 0 1 0]\n",
            " [0 1 0 1 0 1 0 1]\n",
            " [1 0 1 0 1 0 1 0]\n",
            " [0 1 0 1 0 1 0 1]\n",
            " [1 0 1 0 1 0 1 0]]\n"
          ],
          "name": "stdout"
        }
      ]
    },
    {
      "cell_type": "code",
      "metadata": {
        "id": "wKnVFwyhuXcY",
        "colab_type": "code",
        "colab": {
          "base_uri": "https://localhost:8080/",
          "height": 118
        },
        "outputId": "8e935a82-2228-48f4-d5ed-bf598b9b0f71"
      },
      "source": [
        "x = np.random.random(10)\n",
        "print(\"Ori Array:\")\n",
        "print(x)\n",
        "x[x.argmax()]=0\n",
        "print(\"Max Value changed to 0:\")\n",
        "print(x)\n"
      ],
      "execution_count": 14,
      "outputs": [
        {
          "output_type": "stream",
          "text": [
            "Ori Array:\n",
            "[0.74241893 0.65309914 0.85716067 0.95352941 0.15259017 0.93974749\n",
            " 0.31845731 0.16218592 0.70083421 0.1260204 ]\n",
            "Max Value changed to 0:\n",
            "[0.74241893 0.65309914 0.85716067 0.         0.15259017 0.93974749\n",
            " 0.31845731 0.16218592 0.70083421 0.1260204 ]\n"
          ],
          "name": "stdout"
        }
      ]
    },
    {
      "cell_type": "code",
      "metadata": {
        "id": "MoBdspl2vWSv",
        "colab_type": "code",
        "colab": {
          "base_uri": "https://localhost:8080/",
          "height": 84
        },
        "outputId": "8bab9484-59ac-454d-a297-708b27949679"
      },
      "source": [
        "array = np.identity(4)\n",
        "print(array)"
      ],
      "execution_count": 15,
      "outputs": [
        {
          "output_type": "stream",
          "text": [
            "[[1. 0. 0. 0.]\n",
            " [0. 1. 0. 0.]\n",
            " [0. 0. 1. 0.]\n",
            " [0. 0. 0. 1.]]\n"
          ],
          "name": "stdout"
        }
      ]
    },
    {
      "cell_type": "code",
      "metadata": {
        "id": "MxmsGDGRwcwm",
        "colab_type": "code",
        "colab": {
          "base_uri": "https://localhost:8080/",
          "height": 67
        },
        "outputId": "37faeac9-56e0-4ef8-e202-0c6bce5a2758"
      },
      "source": [
        "x = np.random.random((2,2))\n",
        "print(\"2D Array:\\n{}\". format(x))"
      ],
      "execution_count": 20,
      "outputs": [
        {
          "output_type": "stream",
          "text": [
            "2D Array:\n",
            "[[0.60861246 0.60559747]\n",
            " [0.45149241 0.9670344 ]]\n"
          ],
          "name": "stdout"
        }
      ]
    },
    {
      "cell_type": "code",
      "metadata": {
        "id": "4YsUWR0UxFTY",
        "colab_type": "code",
        "colab": {
          "base_uri": "https://localhost:8080/",
          "height": 370
        },
        "outputId": "1039de87-b7e0-4316-a0b2-ecfc8af523ad"
      },
      "source": [
        "x = np.random.normal(0,1,(4,4,4))\n",
        "print(\"3D-Array:\\n\")\n",
        "print(x)\n",
        "\n",
        "#[Resources](https://docs.scipy.org/doc/numpy-1.15.0/reference/generated/numpy.random.normal.html)"
      ],
      "execution_count": 27,
      "outputs": [
        {
          "output_type": "stream",
          "text": [
            "3D-Array:\n",
            "\n",
            "[[[-1.72150358  0.66517524 -0.9902778  -2.543668  ]\n",
            "  [ 0.56091127 -0.43459236 -0.09609617  1.16134002]\n",
            "  [-0.79742563  0.14158771  0.76655957  0.8428354 ]\n",
            "  [ 1.118115   -0.46426254  0.05088608  1.25784844]]\n",
            "\n",
            " [[-0.25543279  2.52117898 -0.15463217  0.26212883]\n",
            "  [ 0.91461437 -0.72026007 -0.16361962  0.66860406]\n",
            "  [-0.39165803  0.30667769 -1.00451791 -0.20545751]\n",
            "  [-0.6661125   1.1008023   0.51615811 -0.49769897]]\n",
            "\n",
            " [[-0.73377018 -0.44414184  0.08995508 -0.45794156]\n",
            "  [-2.0616186   1.12145964 -1.25986663  0.10376878]\n",
            "  [-0.76952984  1.42874921  1.37524826 -0.57922249]\n",
            "  [ 0.94643235 -1.21324691  1.46243181 -1.47969592]]\n",
            "\n",
            " [[ 0.03474686 -0.50947538 -0.88810027  0.65501198]\n",
            "  [ 1.66253679  0.04198602  0.31579888 -0.72250394]\n",
            "  [-0.49925057  0.66045068 -0.25709767 -1.4001375 ]\n",
            "  [-0.40799367 -0.2184026   0.03512489  0.01399708]]]\n"
          ],
          "name": "stdout"
        }
      ]
    },
    {
      "cell_type": "code",
      "metadata": {
        "id": "pBXN7Myfz-4d",
        "colab_type": "code",
        "colab": {
          "base_uri": "https://localhost:8080/",
          "height": 101
        },
        "outputId": "7db23e97-81a8-4510-e802-26662a1b2d5e"
      },
      "source": [
        "x = np.arange(0,1,0.1)\n",
        "print(x)\n",
        "print(\"\\n or \\n\")\n",
        "y = np.linspace(0,1, num=11)\n",
        "print(y)\n",
        "\n",
        "#[Resource](https://thispointer.com/numpy-arange-create-a-numpy-array-of-evenly-spaced-numbers-in-python/)"
      ],
      "execution_count": 33,
      "outputs": [
        {
          "output_type": "stream",
          "text": [
            "[0.  0.1 0.2 0.3 0.4 0.5 0.6 0.7 0.8 0.9]\n",
            "\n",
            " or \n",
            "\n",
            "[0.  0.1 0.2 0.3 0.4 0.5 0.6 0.7 0.8 0.9 1. ]\n"
          ],
          "name": "stdout"
        }
      ]
    },
    {
      "cell_type": "code",
      "metadata": {
        "id": "r4Obvp0Sxr_K",
        "colab_type": "code",
        "colab": {
          "base_uri": "https://localhost:8080/",
          "height": 84
        },
        "outputId": "72c377f8-15eb-42e5-f3c4-b115bdd5f9b0"
      },
      "source": [
        "x = np.arange(0,10)\n",
        "print(x)\n",
        "print(\"\\nReversed Array\")\n",
        "x = x[::-1]\n",
        "print(x)"
      ],
      "execution_count": 36,
      "outputs": [
        {
          "output_type": "stream",
          "text": [
            "[0 1 2 3 4 5 6 7 8 9]\n",
            "\n",
            "Reversed Array\n",
            "[9 8 7 6 5 4 3 2 1 0]\n"
          ],
          "name": "stdout"
        }
      ]
    }
  ]
}